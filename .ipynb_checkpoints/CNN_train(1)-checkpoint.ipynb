{
 "cells": [
  {
   "cell_type": "code",
   "execution_count": 1,
   "metadata": {
    "colab": {},
    "colab_type": "code",
    "id": "uhDPFEatEv-S"
   },
   "outputs": [
    {
     "ename": "ModuleNotFoundError",
     "evalue": "No module named 'librosa'",
     "output_type": "error",
     "traceback": [
      "\u001b[1;31m---------------------------------------------------------------------------\u001b[0m",
      "\u001b[1;31mModuleNotFoundError\u001b[0m                       Traceback (most recent call last)",
      "\u001b[1;32m<ipython-input-1-42295c019c2b>\u001b[0m in \u001b[0;36m<module>\u001b[1;34m\u001b[0m\n\u001b[0;32m      1\u001b[0m \u001b[1;32mimport\u001b[0m \u001b[0mos\u001b[0m\u001b[1;33m\u001b[0m\u001b[1;33m\u001b[0m\u001b[0m\n\u001b[0;32m      2\u001b[0m \u001b[1;32mimport\u001b[0m \u001b[0mh5py\u001b[0m\u001b[1;33m\u001b[0m\u001b[1;33m\u001b[0m\u001b[0m\n\u001b[1;32m----> 3\u001b[1;33m \u001b[1;32mimport\u001b[0m \u001b[0mlibrosa\u001b[0m\u001b[1;33m\u001b[0m\u001b[1;33m\u001b[0m\u001b[0m\n\u001b[0m\u001b[0;32m      4\u001b[0m \u001b[1;32mimport\u001b[0m \u001b[0mitertools\u001b[0m\u001b[1;33m\u001b[0m\u001b[1;33m\u001b[0m\u001b[0m\n\u001b[0;32m      5\u001b[0m \u001b[1;32mfrom\u001b[0m \u001b[0mcopy\u001b[0m \u001b[1;32mimport\u001b[0m \u001b[0mcopy\u001b[0m\u001b[1;33m\u001b[0m\u001b[1;33m\u001b[0m\u001b[0m\n",
      "\u001b[1;31mModuleNotFoundError\u001b[0m: No module named 'librosa'"
     ]
    }
   ],
   "source": [
    "import os\n",
    "import h5py\n",
    "import librosa\n",
    "import itertools\n",
    "from copy import copy\n",
    "import numpy as np\n",
    "import pandas as pd\n",
    "import matplotlib.pyplot as plt\n",
    "from collections import OrderedDict\n",
    "from sklearn.model_selection import train_test_split\n",
    "from sklearn.metrics import confusion_matrix\n",
    "from tqdm import tqdm\n",
    "from pathlib import Path\n",
    "\n",
    "from sklearn.linear_model import LogisticRegression\n",
    "from sklearn.linear_model import SGDClassifier\n",
    "from sklearn.tree import DecisionTreeClassifier\n",
    "from sklearn.ensemble import RandomForestClassifier\n",
    "from sklearn.svm import SVC"
   ]
  },
  {
   "cell_type": "code",
   "execution_count": 2,
   "metadata": {
    "colab": {},
    "colab_type": "code",
    "id": "xQ8Ga9wNEv-n"
   },
   "outputs": [],
   "source": [
    "import tensorflow as tf\n",
    "from tensorflow.keras.utils import to_categorical\n",
    "from tensorflow.keras.models import Model,load_model\n",
    "from tensorflow.keras.layers import Input\n",
    "from tensorflow.keras.models import Sequential\n",
    "from tensorflow.keras.layers import Add\n",
    "from tensorflow.keras.layers import Dense\n",
    "from tensorflow.keras.layers import Activation\n",
    "from tensorflow.keras.layers import PReLU\n",
    "from tensorflow.keras.layers import Conv2D\n",
    "from tensorflow.keras.layers import MaxPooling2D\n",
    "from tensorflow.keras.layers import AveragePooling2D\n",
    "from tensorflow.keras.layers import GlobalAveragePooling2D\n",
    "from tensorflow.keras.layers import GlobalMaxPooling2D\n",
    "from tensorflow.keras.layers import Dropout\n",
    "from tensorflow.keras.layers import Flatten\n",
    "from tensorflow.keras.layers import BatchNormalization\n",
    "from tensorflow.keras.callbacks import ReduceLROnPlateau\n",
    "from keras.applications.resnet50 import preprocess_input, ResNet50"
   ]
  },
  {
   "cell_type": "code",
   "execution_count": 3,
   "metadata": {
    "colab": {
     "base_uri": "https://localhost:8080/",
     "height": 129
    },
    "colab_type": "code",
    "id": "kVVdJwV1FgJf",
    "outputId": "26d36384-d2b0-4e10-ce75-15d2a3f81cc6"
   },
   "outputs": [],
   "source": [
    "# from google.colab import drive\n",
    "# drive.mount('/content/drive')"
   ]
  },
  {
   "cell_type": "code",
   "execution_count": 4,
   "metadata": {
    "colab": {
     "base_uri": "https://localhost:8080/",
     "height": 35
    },
    "colab_type": "code",
    "id": "MsL1_E70Fsfx",
    "outputId": "e25fcde7-27a9-4bd5-b46c-dba9e2d294ac"
   },
   "outputs": [
    {
     "data": {
      "text/plain": [
       "'C:\\\\Users\\\\janhvi\\\\MLSP_Project\\\\Music-Genre-Classification-GTZAN\\\\Music Genre Classification'"
      ]
     },
     "execution_count": 4,
     "metadata": {},
     "output_type": "execute_result"
    }
   ],
   "source": [
    "os.getcwd()"
   ]
  },
  {
   "cell_type": "markdown",
   "metadata": {
    "colab_type": "text",
    "id": "9p_2-STWGho1"
   },
   "source": [
    "After Mounting Drive, Change Current Working Directory to \n",
    "**PATH** : '/content/drive/My Drive/Audio Classification with DL'"
   ]
  },
  {
   "cell_type": "code",
   "execution_count": 5,
   "metadata": {
    "colab": {},
    "colab_type": "code",
    "id": "ZvOUoiMZGw31"
   },
   "outputs": [],
   "source": [
    "# os.chdir('genres')"
   ]
  },
  {
   "cell_type": "code",
   "execution_count": 6,
   "metadata": {
    "colab": {},
    "colab_type": "code",
    "id": "MAoOnlJaEv-5"
   },
   "outputs": [],
   "source": [
    "# For reproducibility purposes\n",
    "np.random.seed(42)"
   ]
  },
  {
   "cell_type": "markdown",
   "metadata": {
    "colab_type": "text",
    "id": "qjUGwRcZEv_F"
   },
   "source": [
    "# Read the data\n",
    "\n",
    "> Helper functions to assist the process to read songs, split then and return an array of spectrograms/melspectrograms"
   ]
  },
  {
   "cell_type": "code",
   "execution_count": 7,
   "metadata": {
    "colab": {},
    "colab_type": "code",
    "id": "UFZ_6QOPEv_I"
   },
   "outputs": [],
   "source": [
    "\"\"\"\n",
    "@description: Method to split a song into multiple songs using overlapping windows\n",
    "\"\"\"\n",
    "def splitsongs(X, y, window = 0.05, overlap = 0.5):\n",
    "    # Empty lists to hold our results\n",
    "    temp_X = []\n",
    "    temp_y = []\n",
    "\n",
    "    # Get the input song array size\n",
    "    xshape = X.shape[0]\n",
    "    chunk = int(xshape*window)\n",
    "    offset = int(chunk*(1.-overlap))\n",
    "    \n",
    "    # Split the song and create new ones on windows\n",
    "    spsong = [X[i:i+chunk] for i in range(0, xshape - chunk + offset, offset)]\n",
    "    for s in spsong:\n",
    "        if s.shape[0] != chunk:\n",
    "            continue\n",
    "\n",
    "        temp_X.append(s)\n",
    "        temp_y.append(y)\n",
    "\n",
    "    return np.array(temp_X), np.array(temp_y)"
   ]
  },
  {
   "cell_type": "code",
   "execution_count": 8,
   "metadata": {
    "colab": {},
    "colab_type": "code",
    "id": "YSiFtUaCEv_T"
   },
   "outputs": [],
   "source": [
    "\"\"\"\n",
    "@description: Method to convert a list of songs to a np array of melspectrograms\n",
    "\"\"\"\n",
    "def to_melspectrogram(songs, n_fft=1024, hop_length=256):\n",
    "    # Transformation function\n",
    "    melspec = lambda x: librosa.feature.melspectrogram(x, n_fft=n_fft,\n",
    "        hop_length=hop_length, n_mels=128)[:,:,np.newaxis] #keep n_mels=128. other values are for experimenting\n",
    "\n",
    "    # map transformation of input songs to melspectrogram using log-scale\n",
    "    tsongs = map(melspec, songs)\n",
    "    # np.array([librosa.power_to_db(s, ref=np.max) for s in list(tsongs)])\n",
    "    return np.array(list(tsongs))"
   ]
  },
  {
   "cell_type": "code",
   "execution_count": 9,
   "metadata": {
    "colab": {},
    "colab_type": "code",
    "id": "ZEbHw5ahEv_f"
   },
   "outputs": [],
   "source": [
    "def split_convert(X, y):\n",
    "    arr_spec, arr_genre = [], []\n",
    "    \n",
    "    # Convert to spectrograms and split into small windows\n",
    "    for fn, genre in tqdm(zip(X, y),total=len(y),desc='Processing Audio Files'):\n",
    "        signal, sr = librosa.load(fn)\n",
    "        signal = signal[:song_samples]\n",
    "\n",
    "        # Convert to dataset of spectograms/melspectograms\n",
    "        signals, y = splitsongs(signal, genre, window=0.05) #keep window=0.05. Other values are for experimenting. \n",
    "\n",
    "        # Convert to \"spec\" representation\n",
    "        specs = to_melspectrogram(signals)\n",
    "\n",
    "        # Save files\n",
    "        arr_genre.extend(y)\n",
    "        arr_spec.extend(specs)\n",
    "    \n",
    "    return np.array(arr_spec), to_categorical(arr_genre)"
   ]
  },
  {
   "cell_type": "code",
   "execution_count": 46,
   "metadata": {
    "colab": {},
    "colab_type": "code",
    "id": "qswtYBx0Ev_o"
   },
   "outputs": [],
   "source": [
    "def read_data(src_dir, genres, song_samples,get_data='train'):    \n",
    "    # Empty array of dicts with the processed features from all files\n",
    "    arr_fn = []\n",
    "    arr_genres = []\n",
    "\n",
    "    # Get file list from the folders\n",
    "    if get_data=='train':\n",
    "        for x,_ in genres.items():\n",
    "            folder = src_dir+'/'+'train'+'/' + x\n",
    "            for root, subdirs, files in os.walk(folder):\n",
    "                print(root)\n",
    "                for file in files:\n",
    "                    file_name = folder + \"/\" + file\n",
    "#                     print(file_name)\n",
    "                    # Save the file name and the genre\n",
    "                    arr_fn.append(file_name)\n",
    "                    \n",
    "                    arr_genres.append(genres[x])\n",
    "                \n",
    "        print(len(arr_fn))\n",
    "        print(len(arr_genres))\n",
    "        print()\n",
    "        # Split into small segments and convert to spectrogram\n",
    "        X_train, y_train = split_convert(arr_fn, arr_genres)\n",
    "        return X_train, y_train\n",
    "    \n",
    "    elif get_data=='test':\n",
    "        folder = src_dir+'/'+'test'\n",
    "        for root, subdirs, files in os.walk(folder):\n",
    "            for idx,file in enumerate(files):\n",
    "                file_name = folder + \"/\" + file\n",
    "                print(idx)\n",
    "                # Save the file name and the genre\n",
    "                arr_fn.append(file_name)\n",
    "                arr_genres.append(idx//25)\n",
    "    \n",
    "        X_test, y_test = split_convert(arr_fn, arr_genres)\n",
    "        return X_test, y_test\n",
    "    else:\n",
    "        #print('Specify \"test\" or \"train\"')\n",
    "        return None,None"
   ]
  },
  {
   "cell_type": "code",
   "execution_count": 47,
   "metadata": {},
   "outputs": [
    {
     "name": "stdout",
     "output_type": "stream",
     "text": [
      " Volume in drive C is Windows\n",
      " Volume Serial Number is 5A98-DA59\n",
      "\n",
      " Directory of C:\\Users\\janhvi\\MLSP_Project\\Music-Genre-Classification-GTZAN\\Music Genre Classification\n",
      "\n",
      "15-06-2021  15:54    <DIR>          .\n",
      "15-06-2021  15:54    <DIR>          ..\n",
      "15-06-2021  14:28    <DIR>          .ipynb_checkpoints\n",
      "15-06-2021  14:23         1,740,574 audio_data_visualization.ipynb\n",
      "15-06-2021  14:23             4,939 AudioClassification.py\n",
      "15-06-2021  14:23            10,719 AudioSpectrum.ipynb\n",
      "15-06-2021  15:54            55,717 CNN_train(1).ipynb\n",
      "15-06-2021  15:11    <DIR>          genres\n",
      "15-06-2021  14:23             3,246 make_dataset_ml.py\n",
      "15-06-2021  14:24    <DIR>          models\n",
      "15-06-2021  14:23           321,509 test_data.csv\n",
      "15-06-2021  14:23           345,714 train_classical_ml_models.ipynb\n",
      "15-06-2021  14:23         2,876,971 train_data.csv\n",
      "15-06-2021  14:29             1,088 Untitled.ipynb\n",
      "               9 File(s)      5,360,477 bytes\n",
      "               5 Dir(s)  48,816,545,792 bytes free\n"
     ]
    }
   ],
   "source": [
    "%ls"
   ]
  },
  {
   "cell_type": "code",
   "execution_count": 48,
   "metadata": {
    "colab": {
     "base_uri": "https://localhost:8080/",
     "height": 35
    },
    "colab_type": "code",
    "id": "Z3SrilZtEv_w",
    "outputId": "50c580c0-b1cb-4106-ff6a-1022eeae3deb"
   },
   "outputs": [
    {
     "name": "stderr",
     "output_type": "stream",
     "text": [
      "\r",
      "Processing Audio Files:   0%|                                                                  | 0/250 [00:00<?, ?it/s]"
     ]
    },
    {
     "name": "stdout",
     "output_type": "stream",
     "text": [
      "0\n",
      "1\n",
      "2\n",
      "3\n",
      "4\n",
      "5\n",
      "6\n",
      "7\n",
      "8\n",
      "9\n",
      "10\n",
      "11\n",
      "12\n",
      "13\n",
      "14\n",
      "15\n",
      "16\n",
      "17\n",
      "18\n",
      "19\n",
      "20\n",
      "21\n",
      "22\n",
      "23\n",
      "24\n",
      "25\n",
      "26\n",
      "27\n",
      "28\n",
      "29\n",
      "30\n",
      "31\n",
      "32\n",
      "33\n",
      "34\n",
      "35\n",
      "36\n",
      "37\n",
      "38\n",
      "39\n",
      "40\n",
      "41\n",
      "42\n",
      "43\n",
      "44\n",
      "45\n",
      "46\n",
      "47\n",
      "48\n",
      "49\n",
      "50\n",
      "51\n",
      "52\n",
      "53\n",
      "54\n",
      "55\n",
      "56\n",
      "57\n",
      "58\n",
      "59\n",
      "60\n",
      "61\n",
      "62\n",
      "63\n",
      "64\n",
      "65\n",
      "66\n",
      "67\n",
      "68\n",
      "69\n",
      "70\n",
      "71\n",
      "72\n",
      "73\n",
      "74\n",
      "75\n",
      "76\n",
      "77\n",
      "78\n",
      "79\n",
      "80\n",
      "81\n",
      "82\n",
      "83\n",
      "84\n",
      "85\n",
      "86\n",
      "87\n",
      "88\n",
      "89\n",
      "90\n",
      "91\n",
      "92\n",
      "93\n",
      "94\n",
      "95\n",
      "96\n",
      "97\n",
      "98\n",
      "99\n",
      "100\n",
      "101\n",
      "102\n",
      "103\n",
      "104\n",
      "105\n",
      "106\n",
      "107\n",
      "108\n",
      "109\n",
      "110\n",
      "111\n",
      "112\n",
      "113\n",
      "114\n",
      "115\n",
      "116\n",
      "117\n",
      "118\n",
      "119\n",
      "120\n",
      "121\n",
      "122\n",
      "123\n",
      "124\n",
      "125\n",
      "126\n",
      "127\n",
      "128\n",
      "129\n",
      "130\n",
      "131\n",
      "132\n",
      "133\n",
      "134\n",
      "135\n",
      "136\n",
      "137\n",
      "138\n",
      "139\n",
      "140\n",
      "141\n",
      "142\n",
      "143\n",
      "144\n",
      "145\n",
      "146\n",
      "147\n",
      "148\n",
      "149\n",
      "150\n",
      "151\n",
      "152\n",
      "153\n",
      "154\n",
      "155\n",
      "156\n",
      "157\n",
      "158\n",
      "159\n",
      "160\n",
      "161\n",
      "162\n",
      "163\n",
      "164\n",
      "165\n",
      "166\n",
      "167\n",
      "168\n",
      "169\n",
      "170\n",
      "171\n",
      "172\n",
      "173\n",
      "174\n",
      "175\n",
      "176\n",
      "177\n",
      "178\n",
      "179\n",
      "180\n",
      "181\n",
      "182\n",
      "183\n",
      "184\n",
      "185\n",
      "186\n",
      "187\n",
      "188\n",
      "189\n",
      "190\n",
      "191\n",
      "192\n",
      "193\n",
      "194\n",
      "195\n",
      "196\n",
      "197\n",
      "198\n",
      "199\n",
      "200\n",
      "201\n",
      "202\n",
      "203\n",
      "204\n",
      "205\n",
      "206\n",
      "207\n",
      "208\n",
      "209\n",
      "210\n",
      "211\n",
      "212\n",
      "213\n",
      "214\n",
      "215\n",
      "216\n",
      "217\n",
      "218\n",
      "219\n",
      "220\n",
      "221\n",
      "222\n",
      "223\n",
      "224\n",
      "225\n",
      "226\n",
      "227\n",
      "228\n",
      "229\n",
      "230\n",
      "231\n",
      "232\n",
      "233\n",
      "234\n",
      "235\n",
      "236\n",
      "237\n",
      "238\n",
      "239\n",
      "240\n",
      "241\n",
      "242\n",
      "243\n",
      "244\n",
      "245\n",
      "246\n",
      "247\n",
      "248\n",
      "249\n"
     ]
    },
    {
     "name": "stderr",
     "output_type": "stream",
     "text": [
      "Processing Audio Files: 100%|████████████████████████████████████████████████████████| 250/250 [01:44<00:00,  2.39it/s]\n"
     ]
    }
   ],
   "source": [
    "# Parameters\n",
    "\n",
    "gtzan_dir = 'genres'\n",
    "song_samples = 660000\n",
    "genres = {'blues': 0, 'classical': 1, 'country': 2, 'disco': 3, 'hiphop': 4, \n",
    "          'jazz': 5, 'metal': 6, 'pop': 7, 'reggae': 8, 'rock': 9}\n",
    "\n",
    "# Read the data\n",
    "# X_train, y_train = read_data(gtzan_dir, genres, song_samples,get_data='train')\n",
    "X_test, y_test = read_data(gtzan_dir, genres, song_samples,get_data='test')"
   ]
  },
  {
   "cell_type": "code",
   "execution_count": 49,
   "metadata": {
    "colab": {
     "base_uri": "https://localhost:8080/",
     "height": 35
    },
    "colab_type": "code",
    "id": "YDkVi3_9Ev_8",
    "outputId": "497a1c02-d3df-45a8-8631-7f0346d196ba"
   },
   "outputs": [
    {
     "name": "stdout",
     "output_type": "stream",
     "text": [
      "(29250, 128, 129, 1) (9750, 128, 129, 1) (29250, 10) (9750, 10)\n",
      "[[1. 0. 0. ... 0. 0. 0.]\n",
      " [1. 0. 0. ... 0. 0. 0.]\n",
      " [1. 0. 0. ... 0. 0. 0.]\n",
      " ...\n",
      " [0. 0. 0. ... 0. 0. 1.]\n",
      " [0. 0. 0. ... 0. 0. 1.]\n",
      " [0. 0. 0. ... 0. 0. 1.]]\n"
     ]
    }
   ],
   "source": [
    "print(X_train.shape, X_test.shape, y_train.shape, y_test.shape)\n",
    "print(y_test)"
   ]
  },
  {
   "cell_type": "code",
   "execution_count": 50,
   "metadata": {
    "colab": {
     "base_uri": "https://localhost:8080/",
     "height": 265
    },
    "colab_type": "code",
    "id": "O9Nqtp8wEwAF",
    "outputId": "6fb51f9a-9c42-49ac-c80c-1d404073cf70"
   },
   "outputs": [
    {
     "data": {
      "image/png": "[encoded data removed]",
      "text/plain": [
       "<Figure size 432x288 with 1 Axes>"
      ]
     },
     "metadata": {
      "needs_background": "light"
     },
     "output_type": "display_data"
    }
   ],
   "source": [
    " # Histogram for train and test \n",
    "values, count = np.unique(np.argmax(y_train, axis=1), return_counts=True)\n",
    "plt.bar(values, count)\n",
    "\n",
    "values, count = np.unique(np.argmax(y_test, axis=1), return_counts=True)\n",
    "plt.bar(values, count)\n",
    "plt.show()"
   ]
  },
  {
   "cell_type": "markdown",
   "metadata": {
    "colab_type": "text",
    "id": "PLwUvGRnEwAR"
   },
   "source": [
    "# GTZAN Melspectrogram Generator"
   ]
  },
  {
   "cell_type": "code",
   "execution_count": 51,
   "metadata": {
    "colab": {},
    "colab_type": "code",
    "id": "gzpydk2mEwAV"
   },
   "outputs": [],
   "source": [
    "from tensorflow.keras.utils import Sequence\n",
    "\n",
    "class GTZANGenerator(Sequence):\n",
    "    def __init__(self, X, y, batch_size=64, is_test = False):\n",
    "        self.X = X\n",
    "        self.y = y\n",
    "        self.batch_size = batch_size\n",
    "        self.is_test = is_test\n",
    "    \n",
    "    def __len__(self):\n",
    "        return int(np.ceil(len(self.X)/self.batch_size))\n",
    "    \n",
    "    def __getitem__(self, index):\n",
    "        # Get batch indexes\n",
    "        signals = self.X[index*self.batch_size:(index+1)*self.batch_size]\n",
    "\n",
    "        # Apply data augmentation\n",
    "        if not self.is_test:\n",
    "            signals = self.__augment(signals)\n",
    "        return signals, self.y[index*self.batch_size:(index+1)*self.batch_size]\n",
    "    \n",
    "    def __augment(self, signals, hor_flip = 0.5, random_cutout = 0.5):\n",
    "        spectrograms =  []\n",
    "        for s in signals:\n",
    "            signal = copy(s)\n",
    "            \n",
    "            # Perform horizontal flip\n",
    "            if np.random.rand() < hor_flip:\n",
    "                signal = np.flip(signal, 1)\n",
    "\n",
    "            # Perform random cutoout of some frequency/time\n",
    "            if np.random.rand() < random_cutout:\n",
    "                lines = np.random.randint(signal.shape[0], size=2)\n",
    "                cols = np.random.randint(signal.shape[0], size=3)\n",
    "                signal[lines, :, :] = -80 # dB\n",
    "                signal[:, cols, :] = -80 # dB\n",
    "\n",
    "            spectrograms.append(signal)\n",
    "        return np.array(spectrograms)\n",
    "    \n",
    "    def on_epoch_end(self):\n",
    "        self.indexes = np.arange(len(self.X))\n",
    "        np.random.shuffle(self.indexes)\n",
    "        return None"
   ]
  },
  {
   "cell_type": "markdown",
   "metadata": {
    "colab_type": "text",
    "id": "5Jkz1Z0XEwAe"
   },
   "source": [
    "# Custom CNN (Melspectrogram version)"
   ]
  },
  {
   "cell_type": "code",
   "execution_count": 52,
   "metadata": {
    "colab": {},
    "colab_type": "code",
    "id": "FdFm1rCGEwAh"
   },
   "outputs": [],
   "source": [
    "def conv_block(x, n_filters,filter_size=(3, 3), pool_size=(2, 2),stride=(1, 1)):\n",
    "    x = Conv2D(n_filters, filter_size, strides=(1, 1), padding='same')(x)\n",
    "    x = Activation('relu')(x)\n",
    "    x = MaxPooling2D(pool_size=pool_size, strides=stride)(x)\n",
    "    x = Dropout(0.4)(x)\n",
    "    return x"
   ]
  },
  {
   "cell_type": "code",
   "execution_count": 53,
   "metadata": {
    "colab": {},
    "colab_type": "code",
    "id": "vSUqInqvEwAr"
   },
   "outputs": [],
   "source": [
    "# Model Definition\n",
    "def create_model(input_shape, num_genres):\n",
    "    inpt = Input(shape=input_shape)\n",
    "    x = conv_block(inpt, 16,stride=(2,2))\n",
    "    x = conv_block(x, 32,filter_size=(3,3),stride=(2,2))\n",
    "    x = conv_block(x, 64, stride=(2,2))\n",
    "    x = conv_block(x, 128,filter_size=(3,3),stride=(2,2))\n",
    "    x = conv_block(x, 256,stride=(2,2))\n",
    "\n",
    "    x = Flatten()(x)\n",
    "    x = Dropout(0.5)(x)\n",
    "    x = Dense(128, activation='relu', \n",
    "              kernel_regularizer=tf.keras.regularizers.l2(0.01))(x)\n",
    "    x = Dropout(0.3)(x)\n",
    "    predictions = Dense(num_genres, \n",
    "                        activation='softmax', \n",
    "                        kernel_regularizer=tf.keras.regularizers.l2(0.01))(x)\n",
    "    \n",
    "    model = Model(inputs=inpt, outputs=predictions)\n",
    "    return model"
   ]
  },
  {
   "cell_type": "code",
   "execution_count": 54,
   "metadata": {},
   "outputs": [
    {
     "name": "stdout",
     "output_type": "stream",
     "text": [
      "(29250, 128, 129, 1)\n"
     ]
    }
   ],
   "source": [
    "print(X_train.shape)"
   ]
  },
  {
   "cell_type": "code",
   "execution_count": 55,
   "metadata": {
    "colab": {},
    "colab_type": "code",
    "id": "IlEU-rAvEwAy"
   },
   "outputs": [],
   "source": [
    "model = create_model(X_train[0].shape, 10)"
   ]
  },
  {
   "cell_type": "code",
   "execution_count": 56,
   "metadata": {
    "colab": {
     "base_uri": "https://localhost:8080/",
     "height": 1000
    },
    "colab_type": "code",
    "id": "PTcfKbOyEwA8",
    "outputId": "5924b82a-e85c-4bda-de06-ec52fda924d3"
   },
   "outputs": [
    {
     "name": "stdout",
     "output_type": "stream",
     "text": [
      "Model: \"functional_3\"\n",
      "_________________________________________________________________\n",
      "Layer (type)                 Output Shape              Param #   \n",
      "=================================================================\n",
      "input_3 (InputLayer)         [(None, 128, 129, 1)]     0         \n",
      "_________________________________________________________________\n",
      "conv2d_6 (Conv2D)            (None, 128, 129, 16)      160       \n",
      "_________________________________________________________________\n",
      "activation_6 (Activation)    (None, 128, 129, 16)      0         \n",
      "_________________________________________________________________\n",
      "max_pooling2d_6 (MaxPooling2 (None, 64, 64, 16)        0         \n",
      "_________________________________________________________________\n",
      "dropout_7 (Dropout)          (None, 64, 64, 16)        0         \n",
      "_________________________________________________________________\n",
      "conv2d_7 (Conv2D)            (None, 64, 64, 32)        4640      \n",
      "_________________________________________________________________\n",
      "activation_7 (Activation)    (None, 64, 64, 32)        0         \n",
      "_________________________________________________________________\n",
      "max_pooling2d_7 (MaxPooling2 (None, 32, 32, 32)        0         \n",
      "_________________________________________________________________\n",
      "dropout_8 (Dropout)          (None, 32, 32, 32)        0         \n",
      "_________________________________________________________________\n",
      "conv2d_8 (Conv2D)            (None, 32, 32, 64)        18496     \n",
      "_________________________________________________________________\n",
      "activation_8 (Activation)    (None, 32, 32, 64)        0         \n",
      "_________________________________________________________________\n",
      "max_pooling2d_8 (MaxPooling2 (None, 16, 16, 64)        0         \n",
      "_________________________________________________________________\n",
      "dropout_9 (Dropout)          (None, 16, 16, 64)        0         \n",
      "_________________________________________________________________\n",
      "conv2d_9 (Conv2D)            (None, 16, 16, 128)       73856     \n",
      "_________________________________________________________________\n",
      "activation_9 (Activation)    (None, 16, 16, 128)       0         \n",
      "_________________________________________________________________\n",
      "max_pooling2d_9 (MaxPooling2 (None, 8, 8, 128)         0         \n",
      "_________________________________________________________________\n",
      "dropout_10 (Dropout)         (None, 8, 8, 128)         0         \n",
      "_________________________________________________________________\n",
      "conv2d_10 (Conv2D)           (None, 8, 8, 256)         295168    \n",
      "_________________________________________________________________\n",
      "activation_10 (Activation)   (None, 8, 8, 256)         0         \n",
      "_________________________________________________________________\n",
      "max_pooling2d_10 (MaxPooling (None, 4, 4, 256)         0         \n",
      "_________________________________________________________________\n",
      "dropout_11 (Dropout)         (None, 4, 4, 256)         0         \n",
      "_________________________________________________________________\n",
      "flatten_1 (Flatten)          (None, 4096)              0         \n",
      "_________________________________________________________________\n",
      "dropout_12 (Dropout)         (None, 4096)              0         \n",
      "_________________________________________________________________\n",
      "dense_2 (Dense)              (None, 128)               524416    \n",
      "_________________________________________________________________\n",
      "dropout_13 (Dropout)         (None, 128)               0         \n",
      "_________________________________________________________________\n",
      "dense_3 (Dense)              (None, 10)                1290      \n",
      "=================================================================\n",
      "Total params: 918,026\n",
      "Trainable params: 918,026\n",
      "Non-trainable params: 0\n",
      "_________________________________________________________________\n"
     ]
    }
   ],
   "source": [
    "model.summary()"
   ]
  },
  {
   "cell_type": "markdown",
   "metadata": {
    "colab_type": "text",
    "id": "fbn_9cwvEwBC"
   },
   "source": [
    "### Loss function"
   ]
  },
  {
   "cell_type": "code",
   "execution_count": 57,
   "metadata": {
    "colab": {},
    "colab_type": "code",
    "id": "gIOmwWwxEwBF"
   },
   "outputs": [],
   "source": [
    "model.compile(loss=tf.keras.losses.categorical_crossentropy,\n",
    "              optimizer=tf.keras.optimizers.Adam(learning_rate=0.001),\n",
    "              metrics=['accuracy'])"
   ]
  },
  {
   "cell_type": "code",
   "execution_count": 58,
   "metadata": {
    "colab": {},
    "colab_type": "code",
    "id": "IgXaQ8gkEwBN"
   },
   "outputs": [],
   "source": [
    "reduceLROnPlat = ReduceLROnPlateau(\n",
    "    monitor='val_loss', \n",
    "    factor=0.97,\n",
    "    patience=3,\n",
    "    verbose=1,\n",
    "    mode='min',\n",
    "    min_delta=0.0001,\n",
    "    cooldown=2,\n",
    "    min_lr=1e-10\n",
    ")"
   ]
  },
  {
   "cell_type": "code",
   "execution_count": 59,
   "metadata": {
    "colab": {},
    "colab_type": "code",
    "id": "PJBdoW3nEwBW"
   },
   "outputs": [],
   "source": [
    "# Generators\n",
    "batch_size = 128\n",
    "train_generator = GTZANGenerator(X_train, y_train)\n",
    "steps_per_epoch = np.ceil(len(X_train)/batch_size)\n",
    "\n",
    "validation_generator = GTZANGenerator(X_test, y_test)\n",
    "val_steps = np.ceil(len(X_test)/batch_size)"
   ]
  },
  {
   "cell_type": "code",
   "execution_count": 60,
   "metadata": {
    "colab": {
     "base_uri": "https://localhost:8080/",
     "height": 1000
    },
    "colab_type": "code",
    "id": "9sdywKhhEwBe",
    "outputId": "ae0fb623-255b-443d-e1f5-3d60d92a83c5",
    "scrolled": true
   },
   "outputs": [
    {
     "name": "stdout",
     "output_type": "stream",
     "text": [
      "Epoch 1/50\n",
      "229/229 [==============================] - 272s 1s/step - loss: 5.7909 - accuracy: 0.1023 - val_loss: 4.1166 - val_accuracy: 0.0181\n",
      "Epoch 2/50\n",
      "229/229 [==============================] - 240s 1s/step - loss: 3.7196 - accuracy: 0.1271 - val_loss: 3.4809 - val_accuracy: 0.0306\n",
      "Epoch 3/50\n",
      "229/229 [==============================] - 250s 1s/step - loss: 3.1873 - accuracy: 0.1605 - val_loss: 3.1521 - val_accuracy: 0.1978\n",
      "Epoch 4/50\n",
      "229/229 [==============================] - 232s 1s/step - loss: 2.8524 - accuracy: 0.2209 - val_loss: 2.7915 - val_accuracy: 0.2748\n",
      "Epoch 5/50\n",
      "229/229 [==============================] - 228s 997ms/step - loss: 2.6296 - accuracy: 0.1857 - val_loss: 2.6269 - val_accuracy: 0.2924\n",
      "Epoch 6/50\n",
      "229/229 [==============================] - 192s 839ms/step - loss: 2.4598 - accuracy: 0.1791 - val_loss: 2.6045 - val_accuracy: 0.0108\n",
      "Epoch 7/50\n",
      "229/229 [==============================] - 193s 843ms/step - loss: 2.3415 - accuracy: 0.2223 - val_loss: 2.4089 - val_accuracy: 0.2744\n",
      "Epoch 8/50\n",
      "229/229 [==============================] - 190s 829ms/step - loss: 2.3100 - accuracy: 0.2024 - val_loss: 2.3473 - val_accuracy: 0.2865\n",
      "Epoch 9/50\n",
      "229/229 [==============================] - 175s 764ms/step - loss: 2.2261 - accuracy: 0.2024 - val_loss: 2.2228 - val_accuracy: 0.2709\n",
      "Epoch 10/50\n",
      "229/229 [==============================] - 175s 766ms/step - loss: 2.1364 - accuracy: 0.2395 - val_loss: 2.2047 - val_accuracy: 0.3072\n",
      "Epoch 11/50\n",
      "229/229 [==============================] - 174s 760ms/step - loss: 2.1299 - accuracy: 0.2264 - val_loss: 2.0225 - val_accuracy: 0.4308\n",
      "Epoch 12/50\n",
      "229/229 [==============================] - 173s 757ms/step - loss: 2.1550 - accuracy: 0.2387 - val_loss: 2.0391 - val_accuracy: 0.3523\n",
      "Epoch 13/50\n",
      "229/229 [==============================] - 175s 764ms/step - loss: 2.0844 - accuracy: 0.2205 - val_loss: 2.1401 - val_accuracy: 0.2833\n",
      "Epoch 14/50\n",
      "229/229 [==============================] - ETA: 0s - loss: 2.1247 - accuracy: 0.1858\n",
      "Epoch 00014: ReduceLROnPlateau reducing learning rate to 0.0009700000460725278.\n",
      "229/229 [==============================] - 192s 839ms/step - loss: 2.1247 - accuracy: 0.1858 - val_loss: 2.0370 - val_accuracy: 0.3273\n",
      "Epoch 15/50\n",
      "229/229 [==============================] - 191s 834ms/step - loss: 2.0609 - accuracy: 0.2269 - val_loss: 2.0721 - val_accuracy: 0.2731\n",
      "Epoch 16/50\n",
      "229/229 [==============================] - 192s 840ms/step - loss: 2.0340 - accuracy: 0.2253 - val_loss: 2.0016 - val_accuracy: 0.2670\n",
      "Epoch 17/50\n",
      "229/229 [==============================] - 199s 870ms/step - loss: 1.9768 - accuracy: 0.2566 - val_loss: 2.0674 - val_accuracy: 0.2614\n",
      "Epoch 18/50\n",
      "229/229 [==============================] - 198s 864ms/step - loss: 2.0155 - accuracy: 0.2571 - val_loss: 1.9880 - val_accuracy: 0.3107\n",
      "Epoch 19/50\n",
      "229/229 [==============================] - 195s 850ms/step - loss: 1.9749 - accuracy: 0.2893 - val_loss: 1.9924 - val_accuracy: 0.3137\n",
      "Epoch 20/50\n",
      "229/229 [==============================] - 203s 887ms/step - loss: 2.0156 - accuracy: 0.2778 - val_loss: 1.8980 - val_accuracy: 0.3178\n",
      "Epoch 21/50\n",
      "229/229 [==============================] - 225s 981ms/step - loss: 1.9749 - accuracy: 0.2858 - val_loss: 1.9938 - val_accuracy: 0.2484\n",
      "Epoch 22/50\n",
      "229/229 [==============================] - 210s 915ms/step - loss: 1.9681 - accuracy: 0.3001 - val_loss: 1.9398 - val_accuracy: 0.2776\n",
      "Epoch 23/50\n",
      "229/229 [==============================] - ETA: 0s - loss: 1.9795 - accuracy: 0.2916\n",
      "Epoch 00023: ReduceLROnPlateau reducing learning rate to 0.000940900050336495.\n",
      "229/229 [==============================] - 178s 776ms/step - loss: 1.9795 - accuracy: 0.2916 - val_loss: 1.9349 - val_accuracy: 0.2721\n",
      "Epoch 24/50\n",
      "229/229 [==============================] - 175s 763ms/step - loss: 1.9444 - accuracy: 0.3064 - val_loss: 1.8660 - val_accuracy: 0.3022\n",
      "Epoch 25/50\n",
      "229/229 [==============================] - 175s 765ms/step - loss: 1.9297 - accuracy: 0.2840 - val_loss: 1.8916 - val_accuracy: 0.3005\n",
      "Epoch 26/50\n",
      "229/229 [==============================] - 182s 794ms/step - loss: 1.9235 - accuracy: 0.3049 - val_loss: 1.8404 - val_accuracy: 0.3429\n",
      "Epoch 27/50\n",
      "229/229 [==============================] - 179s 780ms/step - loss: 1.8862 - accuracy: 0.3175 - val_loss: 1.8000 - val_accuracy: 0.3778\n",
      "Epoch 28/50\n",
      "229/229 [==============================] - 186s 814ms/step - loss: 1.9018 - accuracy: 0.3201 - val_loss: 1.9162 - val_accuracy: 0.3638\n",
      "Epoch 29/50\n",
      "229/229 [==============================] - 187s 815ms/step - loss: 1.8604 - accuracy: 0.3464 - val_loss: 1.8208 - val_accuracy: 0.3362\n",
      "Epoch 30/50\n",
      "229/229 [==============================] - ETA: 0s - loss: 1.8581 - accuracy: 0.3116\n",
      "Epoch 00030: ReduceLROnPlateau reducing learning rate to 0.000912673061247915.\n",
      "229/229 [==============================] - 188s 821ms/step - loss: 1.8581 - accuracy: 0.3116 - val_loss: 1.9276 - val_accuracy: 0.3598\n",
      "Epoch 31/50\n",
      "229/229 [==============================] - 179s 781ms/step - loss: 1.8296 - accuracy: 0.3469 - val_loss: 1.9787 - val_accuracy: 0.3890\n",
      "Epoch 32/50\n",
      "229/229 [==============================] - 178s 779ms/step - loss: 1.8434 - accuracy: 0.3537 - val_loss: 1.7494 - val_accuracy: 0.4458\n",
      "Epoch 33/50\n",
      "229/229 [==============================] - 174s 761ms/step - loss: 1.8440 - accuracy: 0.3284 - val_loss: 1.7642 - val_accuracy: 0.3975\n",
      "Epoch 34/50\n",
      "229/229 [==============================] - 174s 758ms/step - loss: 1.7804 - accuracy: 0.3684 - val_loss: 1.8867 - val_accuracy: 0.2845\n",
      "Epoch 35/50\n",
      "229/229 [==============================] - ETA: 0s - loss: 1.8282 - accuracy: 0.3823\n",
      "Epoch 00035: ReduceLROnPlateau reducing learning rate to 0.0008852928807027637.\n",
      "229/229 [==============================] - 173s 754ms/step - loss: 1.8282 - accuracy: 0.3823 - val_loss: 1.8515 - val_accuracy: 0.3620\n",
      "Epoch 36/50\n",
      "229/229 [==============================] - 179s 780ms/step - loss: 1.7749 - accuracy: 0.3773 - val_loss: 1.7619 - val_accuracy: 0.3237\n",
      "Epoch 37/50\n",
      "229/229 [==============================] - 175s 763ms/step - loss: 1.7803 - accuracy: 0.3797 - val_loss: 1.8785 - val_accuracy: 0.3387\n",
      "Epoch 38/50\n",
      "229/229 [==============================] - 173s 757ms/step - loss: 1.7944 - accuracy: 0.3663 - val_loss: 1.7821 - val_accuracy: 0.4190\n",
      "Epoch 39/50\n",
      "229/229 [==============================] - ETA: 0s - loss: 1.7381 - accuracy: 0.3848\n",
      "Epoch 00039: ReduceLROnPlateau reducing learning rate to 0.0008587341010570526.\n",
      "229/229 [==============================] - 190s 829ms/step - loss: 1.7381 - accuracy: 0.3848 - val_loss: 1.8066 - val_accuracy: 0.3691\n",
      "Epoch 40/50\n",
      "229/229 [==============================] - 177s 772ms/step - loss: 1.7621 - accuracy: 0.3653 - val_loss: 1.6320 - val_accuracy: 0.4343\n",
      "Epoch 41/50\n",
      "229/229 [==============================] - 176s 769ms/step - loss: 1.7356 - accuracy: 0.3921 - val_loss: 1.7074 - val_accuracy: 0.4085\n",
      "Epoch 42/50\n",
      "229/229 [==============================] - 178s 776ms/step - loss: 1.7119 - accuracy: 0.4268 - val_loss: 2.2033 - val_accuracy: 0.2129\n",
      "Epoch 43/50\n",
      "229/229 [==============================] - ETA: 0s - loss: 1.6637 - accuracy: 0.4204\n",
      "Epoch 00043: ReduceLROnPlateau reducing learning rate to 0.0008329721051268279.\n",
      "229/229 [==============================] - 174s 762ms/step - loss: 1.6637 - accuracy: 0.4204 - val_loss: 1.6828 - val_accuracy: 0.3843\n",
      "Epoch 44/50\n",
      "229/229 [==============================] - 174s 761ms/step - loss: 1.6487 - accuracy: 0.4360 - val_loss: 1.7971 - val_accuracy: 0.3590\n",
      "Epoch 45/50\n",
      "229/229 [==============================] - 174s 762ms/step - loss: 1.6851 - accuracy: 0.4055 - val_loss: 1.7543 - val_accuracy: 0.3448\n",
      "Epoch 46/50\n",
      "229/229 [==============================] - 177s 773ms/step - loss: 1.6305 - accuracy: 0.4200 - val_loss: 1.8078 - val_accuracy: 0.4223\n",
      "Epoch 47/50\n",
      "229/229 [==============================] - ETA: 0s - loss: 1.6497 - accuracy: 0.4232\n",
      "Epoch 00047: ReduceLROnPlateau reducing learning rate to 0.0008079829532653093.\n",
      "229/229 [==============================] - 175s 764ms/step - loss: 1.6497 - accuracy: 0.4232 - val_loss: 1.7652 - val_accuracy: 0.3478\n",
      "Epoch 48/50\n",
      "229/229 [==============================] - 171s 746ms/step - loss: 1.6443 - accuracy: 0.4157 - val_loss: 1.6565 - val_accuracy: 0.4343\n",
      "Epoch 49/50\n"
     ]
    },
    {
     "name": "stdout",
     "output_type": "stream",
     "text": [
      "229/229 [==============================] - 176s 769ms/step - loss: 1.6764 - accuracy: 0.4191 - val_loss: 1.7587 - val_accuracy: 0.3429\n",
      "Epoch 50/50\n",
      "229/229 [==============================] - 177s 774ms/step - loss: 1.6484 - accuracy: 0.4256 - val_loss: 1.8195 - val_accuracy: 0.3326\n"
     ]
    }
   ],
   "source": [
    "hist = model.fit_generator(\n",
    "    train_generator,\n",
    "    steps_per_epoch=steps_per_epoch,\n",
    "    validation_data=validation_generator,\n",
    "    validation_steps=val_steps,\n",
    "    epochs=50,\n",
    "    verbose=1,\n",
    "    callbacks=[reduceLROnPlat])"
   ]
  },
  {
   "cell_type": "code",
   "execution_count": 61,
   "metadata": {
    "colab": {
     "base_uri": "https://localhost:8080/",
     "height": 35
    },
    "colab_type": "code",
    "id": "hQ3jCSpnEwBm",
    "outputId": "db117e8e-c9f6-43cd-9d43-a5ffc427aa25"
   },
   "outputs": [
    {
     "name": "stdout",
     "output_type": "stream",
     "text": [
      "val_loss = 1.706 and val_acc = 0.384\n"
     ]
    }
   ],
   "source": [
    "score = model.evaluate(X_test, y_test, verbose=0)\n",
    "print(\"val_loss = {:.3f} and val_acc = {:.3f}\".format(score[0], score[1]))"
   ]
  },
  {
   "cell_type": "code",
   "execution_count": 64,
   "metadata": {},
   "outputs": [
    {
     "name": "stdout",
     "output_type": "stream",
     "text": [
      "dict_keys(['loss', 'accuracy', 'val_loss', 'val_accuracy', 'lr'])\n"
     ]
    }
   ],
   "source": [
    "print(hist.history.keys())"
   ]
  },
  {
   "cell_type": "code",
   "execution_count": 65,
   "metadata": {
    "colab": {
     "base_uri": "https://localhost:8080/",
     "height": 513
    },
    "colab_type": "code",
    "id": "nXQM2oVYEwBu",
    "outputId": "4c098a3e-21d7-450e-f47b-c74dfcd57fa9"
   },
   "outputs": [
    {
     "data": {
      "image/png": "[encoded data removed]",
      "text/plain": [
       "<Figure size 1080x504 with 2 Axes>"
      ]
     },
     "metadata": {
      "needs_background": "light"
     },
     "output_type": "display_data"
    }
   ],
   "source": [
    "plt.figure(figsize=(15,7))\n",
    "\n",
    "plt.subplot(1,2,1)\n",
    "plt.plot(hist.history['accuracy'], label='train')\n",
    "plt.plot(hist.history['val_accuracy'], label='validation')\n",
    "plt.title('Accuracy')\n",
    "plt.xlabel('Epochs')\n",
    "plt.ylabel('Accuracy')\n",
    "plt.legend()\n",
    "\n",
    "plt.subplot(1,2,2)\n",
    "plt.plot(hist.history['loss'], label='train')\n",
    "plt.plot(hist.history['val_loss'], label='validation')\n",
    "plt.title('Loss')\n",
    "plt.xlabel('Epochs')\n",
    "plt.ylabel('Loss')\n",
    "plt.legend()\n",
    "\n",
    "plt.tight_layout()\n",
    "plt.show()"
   ]
  },
  {
   "cell_type": "code",
   "execution_count": 66,
   "metadata": {
    "colab": {},
    "colab_type": "code",
    "id": "VuK7xc5jEwB3"
   },
   "outputs": [],
   "source": [
    "#http://scikit-learn.org/stable/auto_examples/model_selection/plot_confusion_matrix.html\n",
    "def plot_confusion_matrix(cm, classes,\n",
    "                          normalize=False,\n",
    "                          title='Confusion matrix',\n",
    "                          cmap=plt.cm.Blues):\n",
    "    \"\"\"\n",
    "    This function prints and plots the confusion matrix.\n",
    "    Normalization can be applied by setting `normalize=True`.\n",
    "    \"\"\"\n",
    "    if normalize:\n",
    "        cm = cm.astype('float') / cm.sum(axis=1)[:, np.newaxis]\n",
    "        print(\"Normalized confusion matrix\")\n",
    "    else:\n",
    "        print('Confusion matrix, without normalization')\n",
    "\n",
    "    plt.imshow(cm, interpolation='nearest', cmap=cmap)\n",
    "    plt.title(title)\n",
    "    plt.colorbar()\n",
    "    tick_marks = np.arange(len(classes))\n",
    "    plt.xticks(tick_marks, classes, rotation=45)\n",
    "    plt.yticks(tick_marks, classes)\n",
    "\n",
    "    fmt = '.2f' if normalize else 'd'\n",
    "    thresh = cm.max() / 2.\n",
    "    for i, j in itertools.product(range(cm.shape[0]), range(cm.shape[1])):\n",
    "        plt.text(j, i, format(cm[i, j], fmt),\n",
    "                 horizontalalignment=\"center\",\n",
    "                 color=\"white\" if cm[i, j] > thresh else \"black\")\n",
    "\n",
    "    plt.tight_layout()\n",
    "    plt.ylabel('True label')\n",
    "    plt.xlabel('Predicted label')"
   ]
  },
  {
   "cell_type": "code",
   "execution_count": 67,
   "metadata": {
    "colab": {},
    "colab_type": "code",
    "id": "S3iwP8j2EwB_"
   },
   "outputs": [],
   "source": [
    "preds = np.argmax(model.predict(X_test), axis = 1)\n",
    "y_orig = np.argmax(y_test, axis = 1)\n",
    "cm = confusion_matrix(preds, y_orig)"
   ]
  },
  {
   "cell_type": "code",
   "execution_count": 68,
   "metadata": {
    "colab": {
     "base_uri": "https://localhost:8080/",
     "height": 747
    },
    "colab_type": "code",
    "id": "_O4n4UQ4EwCF",
    "outputId": "f4119266-32e5-40fc-d0c9-4fabc65d334e"
   },
   "outputs": [
    {
     "name": "stdout",
     "output_type": "stream",
     "text": [
      "Normalized confusion matrix\n"
     ]
    },
    {
     "data": {
      "image/png": "[encoded data removed]",
      "text/plain": [
       "<Figure size 720x720 with 2 Axes>"
      ]
     },
     "metadata": {
      "needs_background": "light"
     },
     "output_type": "display_data"
    }
   ],
   "source": [
    "keys = OrderedDict(sorted(genres.items(), key=lambda t: t[1])).keys()\n",
    "\n",
    "plt.figure(figsize=(10,10))\n",
    "plot_confusion_matrix(cm, keys, normalize=True)"
   ]
  },
  {
   "cell_type": "markdown",
   "metadata": {
    "colab_type": "text",
    "id": "Bs4aA9d3EwCL"
   },
   "source": [
    "## Majority Vote"
   ]
  },
  {
   "cell_type": "code",
   "execution_count": 69,
   "metadata": {
    "colab": {},
    "colab_type": "code",
    "id": "h9Qdm9PeEwCN"
   },
   "outputs": [],
   "source": [
    "def majority_vote(scores):\n",
    "    values, counts = np.unique(scores,return_counts=True)\n",
    "    ind = np.argmax(counts)\n",
    "    return values[ind]"
   ]
  },
  {
   "cell_type": "code",
   "execution_count": 70,
   "metadata": {
    "colab": {},
    "colab_type": "code",
    "id": "byLQXCchEwCT"
   },
   "outputs": [],
   "source": [
    "preds = model.predict(X_test, batch_size=128, verbose=0)"
   ]
  },
  {
   "cell_type": "code",
   "execution_count": 71,
   "metadata": {
    "colab": {},
    "colab_type": "code",
    "id": "uHdGKwtmEwCZ"
   },
   "outputs": [
    {
     "ename": "ValueError",
     "evalue": "array split does not result in an equal division",
     "output_type": "error",
     "traceback": [
      "\u001b[1;31m---------------------------------------------------------------------------\u001b[0m",
      "\u001b[1;31mTypeError\u001b[0m                                 Traceback (most recent call last)",
      "\u001b[1;32m~\\anaconda3\\envs\\deeplearning\\lib\\site-packages\\numpy\\lib\\shape_base.py\u001b[0m in \u001b[0;36msplit\u001b[1;34m(ary, indices_or_sections, axis)\u001b[0m\n\u001b[0;32m    866\u001b[0m     \u001b[1;32mtry\u001b[0m\u001b[1;33m:\u001b[0m\u001b[1;33m\u001b[0m\u001b[1;33m\u001b[0m\u001b[0m\n\u001b[1;32m--> 867\u001b[1;33m         \u001b[0mlen\u001b[0m\u001b[1;33m(\u001b[0m\u001b[0mindices_or_sections\u001b[0m\u001b[1;33m)\u001b[0m\u001b[1;33m\u001b[0m\u001b[1;33m\u001b[0m\u001b[0m\n\u001b[0m\u001b[0;32m    868\u001b[0m     \u001b[1;32mexcept\u001b[0m \u001b[0mTypeError\u001b[0m\u001b[1;33m:\u001b[0m\u001b[1;33m\u001b[0m\u001b[1;33m\u001b[0m\u001b[0m\n",
      "\u001b[1;31mTypeError\u001b[0m: object of type 'int' has no len()",
      "\nDuring handling of the above exception, another exception occurred:\n",
      "\u001b[1;31mValueError\u001b[0m                                Traceback (most recent call last)",
      "\u001b[1;32m<ipython-input-71-e4bfcb83aa9e>\u001b[0m in \u001b[0;36m<module>\u001b[1;34m\u001b[0m\n\u001b[0;32m      1\u001b[0m \u001b[1;31m# Each sound was divided into 39 segments in our custom function\u001b[0m\u001b[1;33m\u001b[0m\u001b[1;33m\u001b[0m\u001b[1;33m\u001b[0m\u001b[0m\n\u001b[1;32m----> 2\u001b[1;33m \u001b[0mscores_songs\u001b[0m \u001b[1;33m=\u001b[0m \u001b[0mnp\u001b[0m\u001b[1;33m.\u001b[0m\u001b[0msplit\u001b[0m\u001b[1;33m(\u001b[0m\u001b[0mnp\u001b[0m\u001b[1;33m.\u001b[0m\u001b[0margmax\u001b[0m\u001b[1;33m(\u001b[0m\u001b[0mpreds\u001b[0m\u001b[1;33m,\u001b[0m \u001b[0maxis\u001b[0m\u001b[1;33m=\u001b[0m\u001b[1;36m1\u001b[0m\u001b[1;33m)\u001b[0m\u001b[1;33m,\u001b[0m \u001b[1;36m300\u001b[0m\u001b[1;33m)\u001b[0m\u001b[1;33m\u001b[0m\u001b[1;33m\u001b[0m\u001b[0m\n\u001b[0m\u001b[0;32m      3\u001b[0m \u001b[0mscores_songs\u001b[0m \u001b[1;33m=\u001b[0m \u001b[1;33m[\u001b[0m\u001b[0mmajority_vote\u001b[0m\u001b[1;33m(\u001b[0m\u001b[0mscores\u001b[0m\u001b[1;33m)\u001b[0m \u001b[1;32mfor\u001b[0m \u001b[0mscores\u001b[0m \u001b[1;32min\u001b[0m \u001b[0mscores_songs\u001b[0m\u001b[1;33m]\u001b[0m\u001b[1;33m\u001b[0m\u001b[1;33m\u001b[0m\u001b[0m\n",
      "\u001b[1;32m<__array_function__ internals>\u001b[0m in \u001b[0;36msplit\u001b[1;34m(*args, **kwargs)\u001b[0m\n",
      "\u001b[1;32m~\\anaconda3\\envs\\deeplearning\\lib\\site-packages\\numpy\\lib\\shape_base.py\u001b[0m in \u001b[0;36msplit\u001b[1;34m(ary, indices_or_sections, axis)\u001b[0m\n\u001b[0;32m    870\u001b[0m         \u001b[0mN\u001b[0m \u001b[1;33m=\u001b[0m \u001b[0mary\u001b[0m\u001b[1;33m.\u001b[0m\u001b[0mshape\u001b[0m\u001b[1;33m[\u001b[0m\u001b[0maxis\u001b[0m\u001b[1;33m]\u001b[0m\u001b[1;33m\u001b[0m\u001b[1;33m\u001b[0m\u001b[0m\n\u001b[0;32m    871\u001b[0m         \u001b[1;32mif\u001b[0m \u001b[0mN\u001b[0m \u001b[1;33m%\u001b[0m \u001b[0msections\u001b[0m\u001b[1;33m:\u001b[0m\u001b[1;33m\u001b[0m\u001b[1;33m\u001b[0m\u001b[0m\n\u001b[1;32m--> 872\u001b[1;33m             raise ValueError(\n\u001b[0m\u001b[0;32m    873\u001b[0m                 'array split does not result in an equal division')\n\u001b[0;32m    874\u001b[0m     \u001b[1;32mreturn\u001b[0m \u001b[0marray_split\u001b[0m\u001b[1;33m(\u001b[0m\u001b[0mary\u001b[0m\u001b[1;33m,\u001b[0m \u001b[0mindices_or_sections\u001b[0m\u001b[1;33m,\u001b[0m \u001b[0maxis\u001b[0m\u001b[1;33m)\u001b[0m\u001b[1;33m\u001b[0m\u001b[1;33m\u001b[0m\u001b[0m\n",
      "\u001b[1;31mValueError\u001b[0m: array split does not result in an equal division"
     ]
    }
   ],
   "source": [
    "# Each sound was divided into 39 segments in our custom function\n",
    "scores_songs = np.split(np.argmax(preds, axis=1), 300)\n",
    "scores_songs = [majority_vote(scores) for scores in scores_songs]"
   ]
  },
  {
   "cell_type": "code",
   "execution_count": null,
   "metadata": {
    "colab": {},
    "colab_type": "code",
    "id": "vxSRuTS1EwCi"
   },
   "outputs": [],
   "source": [
    "# Same analysis for split\n",
    "label = np.split(np.argmax(y_test, axis=1), 300)\n",
    "label = [majority_vote(l) for l in label]"
   ]
  },
  {
   "cell_type": "code",
   "execution_count": null,
   "metadata": {
    "colab": {
     "base_uri": "https://localhost:8080/",
     "height": 35
    },
    "colab_type": "code",
    "id": "1WSad67DEwCq",
    "outputId": "d684f23c-022d-474b-c544-99ef2df3bbdc"
   },
   "outputs": [],
   "source": [
    "from sklearn.metrics import accuracy_score\n",
    "\n",
    "print(\"majority voting system (acc) = {:.3f}\".format(accuracy_score(label, scores_songs)))"
   ]
  },
  {
   "cell_type": "markdown",
   "metadata": {
    "colab_type": "text",
    "id": "u7iAJBg2EwCw"
   },
   "source": [
    "Compared to the classical approach, we are winning now!\n"
   ]
  },
  {
   "cell_type": "markdown",
   "metadata": {
    "colab_type": "text",
    "id": "ihmnNpICEwCw"
   },
   "source": [
    "## Save the model"
   ]
  },
  {
   "cell_type": "code",
   "execution_count": null,
   "metadata": {
    "colab": {},
    "colab_type": "code",
    "id": "BMqEgpiUEwC0"
   },
   "outputs": [],
   "source": [
    "# Save the model\n",
    "model.save('custom_cnn_2d.h5')"
   ]
  },
  {
   "cell_type": "markdown",
   "metadata": {},
   "source": [
    "### SVM"
   ]
  },
  {
   "cell_type": "code",
   "execution_count": null,
   "metadata": {},
   "outputs": [],
   "source": [
    "params = {\n",
    "    \"cls__C\": [0.5, 1, 5, 10],\n",
    "    \"cls__kernel\": ['rbf', 'sigmoid','poly'],\n",
    "}\n",
    "\n",
    "pipe_svm = Pipeline([\n",
    "    ('scale', StandardScaler()),\n",
    "    ('var_tresh', VarianceThreshold(threshold=0.1)),\n",
    "    ('feature_selection', SelectFromModel(lgbm.LGBMClassifier())),\n",
    "    ('cls', SVC())\n",
    "])\n",
    "\n",
    "grid_svm = GridSearchCV(pipe_svm, params, scoring='accuracy', n_jobs=-1, cv=9,verbose=2)\n",
    "grid_svm.fit(X_train, y_train)"
   ]
  },
  {
   "cell_type": "code",
   "execution_count": null,
   "metadata": {},
   "outputs": [],
   "source": [
    "preds = grid_svm.predict(X_test)\n",
    "print(\"Best score on validation set (accuracy) = {:.4f}\".format(grid_svm.best_score_))\n",
    "print(\"Best score on test set (accuracy) = {:.4f}\".format(accuracy_score(y_test, preds)))"
   ]
  },
  {
   "cell_type": "code",
   "execution_count": null,
   "metadata": {},
   "outputs": [],
   "source": [
    "from sklearn.externals import joblib\n",
    "\n",
    "joblib.dump(grid_svm, \"models/pipe_svm.joblib\")"
   ]
  }
 ],
 "metadata": {
  "accelerator": "GPU",
  "colab": {
   "collapsed_sections": [],
   "machine_shape": "hm",
   "name": "CNN_train.ipynb",
   "provenance": []
  },
  "kernelspec": {
   "display_name": "Python 3",
   "language": "python",
   "name": "python3"
  },
  "language_info": {
   "codemirror_mode": {
    "name": "ipython",
    "version": 3
   },
   "file_extension": ".py",
   "mimetype": "text/x-python",
   "name": "python",
   "nbconvert_exporter": "python",
   "pygments_lexer": "ipython3",
   "version": "3.8.3"
  },
  "pycharm": {
   "stem_cell": {
    "cell_type": "raw",
    "metadata": {
     "collapsed": false
    },
    "source": []
   }
  }
 },
 "nbformat": 4,
 "nbformat_minor": 1
}
